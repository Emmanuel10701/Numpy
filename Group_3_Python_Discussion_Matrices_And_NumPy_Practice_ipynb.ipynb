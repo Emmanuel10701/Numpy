{
  "nbformat": 4,
  "nbformat_minor": 0,
  "metadata": {
    "colab": {
      "provenance": [],
      "authorship_tag": "ABX9TyOWX0vC+BX9dB7bHWFFnW11",
      "include_colab_link": true
    },
    "kernelspec": {
      "name": "python3",
      "display_name": "Python 3"
    },
    "language_info": {
      "name": "python"
    }
  },
  "cells": [
    {
      "cell_type": "markdown",
      "metadata": {
        "id": "view-in-github",
        "colab_type": "text"
      },
      "source": [
        "<a href=\"https://colab.research.google.com/github/Emmanuel10701/Numpy/blob/main/Group_3_Python_Discussion_Matrices_And_NumPy_Practice_ipynb.ipynb\" target=\"_parent\"><img src=\"https://colab.research.google.com/assets/colab-badge.svg\" alt=\"Open In Colab\"/></a>"
      ]
    },
    {
      "cell_type": "markdown",
      "source": [
        "\n"
      ],
      "metadata": {
        "id": "vkQP1ndeAQoZ"
      }
    },
    {
      "cell_type": "markdown",
      "source": [
        "**Question 4. Creating and multiplying matrices.**"
      ],
      "metadata": {
        "id": "v2CgWzm29NUr"
      }
    },
    {
      "cell_type": "markdown",
      "source": [
        "\n"
      ],
      "metadata": {
        "id": "czfrJTQ69JiB"
      }
    },
    {
      "cell_type": "code",
      "source": [
        "import numpy as np\n",
        "\n",
        "A = np.array([[3, 2, 2],\n",
        "              [2, 3, -2]])\n",
        "B = np.array([[1, 0],\n",
        "              [0, 1],\n",
        "              [1, 1]])\n",
        "\n",
        "print(\"Matrix A:\\n\", A)\n",
        "print(\"\\nMatrix B:\\n\", B)\n",
        "\n",
        "\n",
        "# A * B\n",
        "A_dot_B = A @ B\n",
        "print(\"\\nA * B (A @ B):\\n\", A_dot_B)\n",
        "\n",
        "# A.T * A\n",
        "A_T_A = A.T @ A\n",
        "print(\"\\nA.T * A:\\n\", A_T_A)\n",
        "\n",
        "# A * A.T\n",
        "A_A_T = A @ A.T\n",
        "print(\"\\nA * A.T:\\n\", A_A_T)"
      ],
      "metadata": {
        "colab": {
          "base_uri": "https://localhost:8080/"
        },
        "id": "jJEf_eHB66hF",
        "outputId": "6db5c030-daf8-4f96-b572-72336ff51ef2"
      },
      "execution_count": null,
      "outputs": [
        {
          "output_type": "stream",
          "name": "stdout",
          "text": [
            "Matrix A:\n",
            " [[ 3  2  2]\n",
            " [ 2  3 -2]]\n",
            "\n",
            "Matrix B:\n",
            " [[1 0]\n",
            " [0 1]\n",
            " [1 1]]\n",
            "\n",
            "A * B (A @ B):\n",
            " [[5 4]\n",
            " [0 1]]\n",
            "\n",
            "A.T * A:\n",
            " [[13 12  2]\n",
            " [12 13 -2]\n",
            " [ 2 -2  8]]\n",
            "\n",
            "A * A.T:\n",
            " [[17  8]\n",
            " [ 8 17]]\n"
          ]
        }
      ]
    },
    {
      "cell_type": "markdown",
      "source": [],
      "metadata": {
        "id": "dDVXQRbx-0iQ"
      }
    },
    {
      "cell_type": "markdown",
      "source": [
        "**Question 5. Determinants and Inverses.**\n",
        "\n",
        "\n"
      ],
      "metadata": {
        "id": "1njdlefP8WTQ"
      }
    },
    {
      "cell_type": "code",
      "source": [
        "import numpy as np\n",
        "\n",
        "C = np.array([[1, 2],\n",
        "              [3, 4]])\n",
        "print(\"Matrix C:\\n\", C)\n",
        "\n",
        "# (i) The determinant of C\n",
        "det_C = np.linalg.det(C)\n",
        "print(f\"\\nDeterminant of C: {det_C}\")\n",
        "\n",
        "# (ii) The inverse of C (if it exists)\n",
        "try:\n",
        "    inv_C = np.linalg.inv(C)\n",
        "    print(\"\\nInverse of C:\\n\", inv_C)\n",
        "except np.linalg.LinAlgError as e:\n",
        "    print(f\"\\nInverse of C does not exist: {e}\")"
      ],
      "metadata": {
        "colab": {
          "base_uri": "https://localhost:8080/"
        },
        "id": "SWOuaHil8aPM",
        "outputId": "63d257e0-58b5-4279-a19d-ee80b7eba837"
      },
      "execution_count": null,
      "outputs": [
        {
          "output_type": "stream",
          "name": "stdout",
          "text": [
            "Matrix C:\n",
            " [[1 2]\n",
            " [3 4]]\n",
            "\n",
            "Determinant of C: -2.0000000000000004\n",
            "\n",
            "Inverse of C:\n",
            " [[-2.   1. ]\n",
            " [ 1.5 -0.5]]\n"
          ]
        }
      ]
    },
    {
      "cell_type": "markdown",
      "source": [
        "**Question 6. Eigenvalues and Eigenvectors.**\n",
        "\n"
      ],
      "metadata": {
        "id": "6MpThr5Q8vWm"
      }
    },
    {
      "cell_type": "code",
      "source": [
        "import numpy as np\n",
        "\n",
        "M = np.array([[4, 1],\n",
        "              [1, 3]])\n",
        "print(\"Symmetric Matrix M:\\n\", M)\n",
        "\n",
        "# (i) The eigenvalues of M\n",
        "# (ii) The corresponding eigenvectors\n",
        "eigenvalues_M, eigenvectors_M = np.linalg.eig(M)\n",
        "\n",
        "print(\"\\nEigenvalues of M:\\n\", eigenvalues_M)\n",
        "print(\"\\nCorresponding Eigenvectors of M (columns of the matrix are eigenvectors):\\n\", eigenvectors_M)"
      ],
      "metadata": {
        "colab": {
          "base_uri": "https://localhost:8080/"
        },
        "id": "tP2hj2nB80J_",
        "outputId": "0fabef89-c42d-4d6e-f734-0a35846f9551"
      },
      "execution_count": null,
      "outputs": [
        {
          "output_type": "stream",
          "name": "stdout",
          "text": [
            "Symmetric Matrix M:\n",
            " [[4 1]\n",
            " [1 3]]\n",
            "\n",
            "Eigenvalues of M:\n",
            " [4.61803399 2.38196601]\n",
            "\n",
            "Corresponding Eigenvectors of M (columns of the matrix are eigenvectors):\n",
            " [[ 0.85065081 -0.52573111]\n",
            " [ 0.52573111  0.85065081]]\n"
          ]
        }
      ]
    },
    {
      "cell_type": "markdown",
      "source": [
        "**Question 7. SVD.**"
      ],
      "metadata": {
        "id": "B2H5qD4E9dJH"
      }
    },
    {
      "cell_type": "code",
      "source": [
        "import numpy as np\n",
        "\n",
        "A_svd = np.array([[3, 2, 2],\n",
        "                  [2, 3, -2]])\n",
        "print(\"Matrix A for SVD:\\n\", A_svd)\n",
        "\n",
        "# Compute the SVD: A = U * Sigma * V.T\n",
        "U, s, Vt = np.linalg.svd(A_svd)\n",
        "\n",
        "\n",
        "\n",
        "print(\"\\nIdentified components:\")\n",
        "print(\"\\n(i) Left singular vectors (columns of U):\\n\", U)\n",
        "print(\"\\n(ii) Right singular vectors (rows of V.T):\\n\", Vt)\n",
        "print(\"\\n(iii) Singular values (s):\\n\", s)"
      ],
      "metadata": {
        "colab": {
          "base_uri": "https://localhost:8080/"
        },
        "id": "ySYHTqS49n_h",
        "outputId": "36f5ca9d-6ea2-4cc4-9fc0-96c001b03772"
      },
      "execution_count": null,
      "outputs": [
        {
          "output_type": "stream",
          "name": "stdout",
          "text": [
            "Matrix A for SVD:\n",
            " [[ 3  2  2]\n",
            " [ 2  3 -2]]\n",
            "\n",
            "Identified components:\n",
            "\n",
            "(i) Left singular vectors (columns of U):\n",
            " [[-0.70710678 -0.70710678]\n",
            " [-0.70710678  0.70710678]]\n",
            "\n",
            "(ii) Right singular vectors (rows of V.T):\n",
            " [[-7.07106781e-01 -7.07106781e-01 -6.47932334e-17]\n",
            " [-2.35702260e-01  2.35702260e-01 -9.42809042e-01]\n",
            " [-6.66666667e-01  6.66666667e-01  3.33333333e-01]]\n",
            "\n",
            "(iii) Singular values (s):\n",
            " [5. 3.]\n"
          ]
        }
      ]
    }
  ]
}